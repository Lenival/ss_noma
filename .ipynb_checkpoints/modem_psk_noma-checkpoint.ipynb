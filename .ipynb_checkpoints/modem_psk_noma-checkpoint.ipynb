{
 "cells": [
  {
   "cell_type": "markdown",
   "metadata": {},
   "source": [
    "# Modulador e demodulador 2-PSK e 4-ASK em canal NOMA"
   ]
  },
  {
   "cell_type": "markdown",
   "metadata": {},
   "source": [
    "## Geração de uma sequência de pulsos PAM\n",
    "Selecionando a quantidade de pulsos $l_{frame}$, de ordem $Q$ da modulação e energia de bit média $E_b$, a função *pam(l_frame,Q,E_b)* gera uma sequência aleatória de pulsos."
   ]
  },
  {
   "cell_type": "code",
   "execution_count": 1,
   "metadata": {},
   "outputs": [
    {
     "name": "stdout",
     "output_type": "stream",
     "text": [
      "Os níveis de energia dos símbolos de ms1 são [-19.4422221  -6.4807407   6.4807407  19.4422221]\n",
      "Os níveis de energia dos símbolos de ms2 são [-5.47722558  5.47722558]\n"
     ]
    },
    {
     "data": {
      "application/vnd.jupyter.widget-view+json": {
       "model_id": "e4d8bcd323874f16ab5f3709e83193d8",
       "version_major": 2,
       "version_minor": 0
      },
      "text/plain": [
       "Canvas(toolbar=Toolbar(toolitems=[('Home', 'Reset original view', 'home', 'home'), ('Back', 'Back to previous …"
      ]
     },
     "metadata": {},
     "output_type": "display_data"
    }
   ],
   "source": [
    "#%matplotlib notebook\n",
    "import ipywidgets as widgets\n",
    "import matplotlib.pyplot as plt\n",
    "import matplotlib.gridspec as gridspec\n",
    "from scipy import signal\n",
    "%matplotlib ipympl\n",
    "plt.rcParams[\"figure.figsize\"]=1920/200,1080/200\n",
    "%run pam.py\n",
    "\n",
    "l_frame=512                #512\n",
    "Q1=4                       # Modulation order  Q=2,   Q=4\n",
    "P = 240                     # Signal Mean Power\n",
    "alpha_P = 1/8\n",
    "E_b1=1                     # Symbol Energy     E_b=1, E_b=5\n",
    "#alphabet1=[-3,-1,1,3]      # alphabet= [-1,1]     \n",
    "Q2=2                       # Modulation order  Q=2,   Q=4\n",
    "E_b2=1                     # Symbol Energy     E_b=1, E_b=5\n",
    "#alphabet2=[-1,1]           # alphabet=[-1,1]\n",
    "Rs = 20e6                  # Baud rate\n",
    "\n",
    "\n",
    "#Fc = 80e6                  # Carrier frequency\n",
    "#Fs = 4 * Fc                # Sampling frequency\n",
    "\n",
    "\n",
    "ms1 = np.sqrt((1-alpha_P)*P)*pam(l_frame,Q1,E_b1)\n",
    "ms2 = np.sqrt((alpha_P)*P)*pam(l_frame,Q2,E_b2)\n",
    "alphabet1 = np.unique(ms1)\n",
    "alphabet2 = np.unique(ms2)\n",
    "\n",
    "print(f'Os níveis de energia dos símbolos de ms1 são {alphabet1}')\n",
    "print(f'Os níveis de energia dos símbolos de ms2 são {alphabet2}')\n",
    "\n",
    "fig1 = plt.figure()\n",
    "gs1 = gridspec.GridSpec(nrows=5, ncols=2, figure=fig1)\n",
    "\n",
    "ax11 = fig1.add_subplot(gs1[0:2, 0:])\n",
    "ax12 = fig1.add_subplot(gs1[3:, 0:])\n",
    "\n",
    "\n",
    "ax11.stem(ms1)\n",
    "ax11.set_xlim(0, 20)            # Ploting the ten first symbols\n",
    "ax11.grid()\n",
    "ax11.set_title(\"4-ASK\")\n",
    "\n",
    "ax12.stem(ms2)\n",
    "ax12.set_xlim(0, 20)            # Ploting the ten first symbols\n",
    "ax12.grid()\n",
    "ax12.set_title(\"2-PSK\")\n",
    "\n",
    "# ax12_23.scatter(ms1)\n",
    "# ax12_23.grid()\n",
    "\n",
    "\n",
    "fig1.show()"
   ]
  },
  {
   "cell_type": "markdown",
   "metadata": {},
   "source": [
    "## Formatação dos pulsos\n",
    "### Raiz de cosseno elevado\n",
    "Para representar melhor um sinal transmitido, cada pulso é formatado utilizando um pulso raiz quadrada de cosseno levantado (SRRC). Selecionando valores de comprimento do pulso em simbolos $symb$, fator de rolloff $\\beta$ e sobreamostragem $oversampling$, a função *srrc($symb$ , $\\beta$ , $oversampling$)* gera o pulso correspondente. Como a energia de cada símbolo já é definida na geração, o pulso precisa ter energia unitária, para isso, normaliza-se sua amplitude. "
   ]
  },
  {
   "cell_type": "markdown",
   "metadata": {},
   "source": [
    "A equação do pulso SRRC é dada por\n",
    "\\begin{equation*}\n",
    "p(x) = \\left\\{ \\begin{array}{lll} \\frac{1}{\\sqrt{T}}\\frac{\\sin{\\pi(1-\\beta) t/T}+(4\\beta t/T)\\cos{\\pi(1+\\beta) t/T}}{(\\pi t/T)(1 - (4\\beta t/T)^2)} \\quad & t \\neq 0,\\pm \\frac{T}{4\\beta} \\\\ \\frac{1}{\\sqrt{T}}(1-\\beta + (4\\beta/\\pi)) \\quad & t=0 \\\\ \\frac{\\beta}{\\sqrt{2T}}\\Big[\\Big(\\frac{\\pi + 2 }{\\pi}\\Big)\\sin{\\Big(\\frac{\\pi}{4\\beta}\\Big)}+\\Big(\\frac{\\pi - 2 }{\\pi}\\Big)\\cos{\\Big(\\frac{\\pi}{4\\beta}\\Big)}\\Big] & t=\\pm \\frac{T}{4\\beta} \\end{array} \\right. \n",
    "\\end{equation*}"
   ]
  },
  {
   "cell_type": "code",
   "execution_count": 2,
   "metadata": {},
   "outputs": [
    {
     "data": {
      "application/vnd.jupyter.widget-view+json": {
       "model_id": "45e8f9c5cf5b4a2d9945917d117167d2",
       "version_major": 2,
       "version_minor": 0
      },
      "text/plain": [
       "Canvas(toolbar=Toolbar(toolitems=[('Home', 'Reset original view', 'home', 'home'), ('Back', 'Back to previous …"
      ]
     },
     "metadata": {},
     "output_type": "display_data"
    }
   ],
   "source": [
    "import numpy as np\n",
    "%run srrc.py\n",
    "symb = 16 # 4\n",
    "beta = 0.75\n",
    "oversampling = 16 # 96\n",
    "ps = srrc(symb, beta, oversampling)\n",
    "ps = ps/np.sqrt(np.sum(ps**2))\n",
    "\n",
    "fig2, ax2 = plt.subplots()\n",
    "ax2.stem(ps)\n",
    "ax2.grid()\n",
    "fig2.show()"
   ]
  },
  {
   "cell_type": "markdown",
   "metadata": {},
   "source": [
    "### Convolução do pulso com a mensagem"
   ]
  },
  {
   "cell_type": "code",
   "execution_count": 3,
   "metadata": {},
   "outputs": [
    {
     "data": {
      "application/vnd.jupyter.widget-view+json": {
       "model_id": "d97fe999f2fe49d7a2a24b1a5389461e",
       "version_major": 2,
       "version_minor": 0
      },
      "text/plain": [
       "Canvas(toolbar=Toolbar(toolitems=[('Home', 'Reset original view', 'home', 'home'), ('Back', 'Back to previous …"
      ]
     },
     "metadata": {},
     "output_type": "display_data"
    }
   ],
   "source": [
    "mups1 = np.zeros(ms1.size*oversampling)\n",
    "mups1[range(0,mups1.size,oversampling)]=ms1\n",
    "s1 = np.convolve(ps,mups1)\n",
    "\n",
    "mups2 = np.zeros(ms2.size*oversampling)\n",
    "mups2[range(0,mups2.size,oversampling)]=ms2\n",
    "s2 = np.convolve(ps,mups2)\n",
    "\n",
    "\n",
    "# zi = signal.lfilter_zi(ps, 1)                                    # pulse initial conditions \n",
    "#s1 = signal.lfilter(ps,1,mups1)\n",
    "\n",
    "fig3 = plt.figure()\n",
    "gs3 = gridspec.GridSpec(nrows=5, ncols=2, figure=fig3)\n",
    "\n",
    "ax31 = fig3.add_subplot(gs3[0:2,0:])\n",
    "ax32 = fig3.add_subplot(gs3[3:,0:])\n",
    "\n",
    "ax31.plot(s1)\n",
    "ax31.grid()\n",
    "ax31.set_xlim(symb*oversampling, (10+symb)*oversampling)            # Ploting the first ten symbols\n",
    "\n",
    "ax32.plot(s2)\n",
    "ax32.grid()\n",
    "ax32.set_xlim(symb*oversampling, (10+symb)*oversampling)            # Ploting the first ten symbols\n",
    "\n",
    "fig3.show()\n",
    "\n",
    "#print(mups1[-(10+symb)*oversampling:])"
   ]
  },
  {
   "cell_type": "markdown",
   "metadata": {},
   "source": [
    "### Energia média por símbolo da mensagem após formatação de pulsos continua unitária"
   ]
  },
  {
   "cell_type": "code",
   "execution_count": 4,
   "metadata": {},
   "outputs": [
    {
     "name": "stdout",
     "output_type": "stream",
     "text": [
      "A energia média por símbolo do sinal s1 é 208.68800421576358\n",
      "A energia média por símbolo do sinal s2 é 29.99999617484438\n",
      "A energia média por símbolo dos sinais combinados é 249.22685986556178\n"
     ]
    }
   ],
   "source": [
    "print(f'A energia média por símbolo do sinal s1 é {np.sum(s1**2)/l_frame}')\n",
    "print(f'A energia média por símbolo do sinal s2 é {np.sum(s2**2)/l_frame}')\n",
    "print(f'A energia média por símbolo dos sinais combinados é {np.sum((s1+s2)**2)/l_frame}')"
   ]
  },
  {
   "cell_type": "markdown",
   "metadata": {},
   "source": [
    "### Diagrama de olho (em construção)"
   ]
  },
  {
   "cell_type": "code",
   "execution_count": 5,
   "metadata": {},
   "outputs": [],
   "source": [
    "\n",
    "neye = 4        # How many eyes to group\n",
    "tot_eyes = np.floor(s1.size/(neye*oversampling))\n",
    "#eyes = s1(symb*oversampling)\n"
   ]
  },
  {
   "cell_type": "markdown",
   "metadata": {},
   "source": [
    "## Transmissão do sinal\n",
    "\n",
    "### Espectro do sinal em banda base"
   ]
  },
  {
   "cell_type": "code",
   "execution_count": 6,
   "metadata": {},
   "outputs": [
    {
     "data": {
      "application/vnd.jupyter.widget-view+json": {
       "model_id": "8b2ba916c05949a7b49e8c228f03fa28",
       "version_major": 2,
       "version_minor": 0
      },
      "text/plain": [
       "Canvas(toolbar=Toolbar(toolitems=[('Home', 'Reset original view', 'home', 'home'), ('Back', 'Back to previous …"
      ]
     },
     "metadata": {},
     "output_type": "display_data"
    }
   ],
   "source": [
    "from scipy.fftpack import fft\n",
    "S1 = fft(s1)\n",
    "S2 = fft(s2)\n",
    "N = s1.size\n",
    "f = np.arange(-1,1,2/N)\n",
    "\n",
    "fig4 = plt.figure()\n",
    "gr4 = gridspec.GridSpec(nrows=5, ncols=2, figure=fig4)\n",
    "\n",
    "ax41 = fig4.add_subplot(gr4[0:2,0:])\n",
    "ax42 = fig4.add_subplot(gr4[3:,0:])\n",
    "\n",
    "ax41.plot(f,np.abs(np.fft.fftshift(S1)))\n",
    "ax41.set_xlabel(r\"Frequência em fração de $\\pi$ radianos\")\n",
    "ax41.grid()\n",
    "\n",
    "ax42.plot(f,np.abs(np.fft.fftshift(S2)))\n",
    "ax42.set_xlabel(r\"Frequência em fração de $\\pi$ radianos\")\n",
    "ax42.grid()\n",
    "\n",
    "fig4.show()"
   ]
  },
  {
   "cell_type": "markdown",
   "metadata": {},
   "source": [
    "### Definição da portadora\n",
    "A portadora é definida de acordo com a frequência intermediária desejada, e esta será definida por $f_c$ em função do inverso de uma fração do tempo de símbolo."
   ]
  },
  {
   "cell_type": "code",
   "execution_count": 7,
   "metadata": {},
   "outputs": [
    {
     "data": {
      "application/vnd.jupyter.widget-view+json": {
       "model_id": "0e4da5fb5fff4cc2bf11b56556f24406",
       "version_major": 2,
       "version_minor": 0
      },
      "text/plain": [
       "Canvas(toolbar=Toolbar(toolitems=[('Home', 'Reset original view', 'home', 'home'), ('Back', 'Back to previous …"
      ]
     },
     "metadata": {},
     "output_type": "display_data"
    }
   ],
   "source": [
    "fc1 = Rs*oversampling/4 # 32/oversampling\n",
    "fc2 = fc1               # 32/oversampling\n",
    "\n",
    "fs = Rs*oversampling\n",
    "t =  np.arange(0,N/fs,1/fs)     # np.arange(0,N,1)\n",
    "\n",
    "\n",
    "c1 = np.sqrt(2)*np.cos(2*np.pi*fc1*t)\n",
    "C1 = fft(c1)\n",
    "c2 = np.sqrt(2)*np.cos(2*np.pi*fc2*t)\n",
    "C2 = fft(c2)\n",
    "\n",
    "\n",
    "\n",
    "\n",
    "#%matplotlib widget\n",
    "fig5, (ax51,ax52) = plt.subplots(2,1)\n",
    "#ax51.subplot(2, 1, 1)\n",
    "ax51.stem(t,c1)\n",
    "ax51.grid()\n",
    "ax51.set_xlim(0,10/fs)#(0, 4*oversampling)\n",
    "#plt.show()\n",
    "#ax52.subplot(2, 1, 2)\n",
    "ax52.plot(f,np.abs(np.fft.fftshift(C1)))\n",
    "ax52.grid()\n",
    "\n",
    "fig5.show()"
   ]
  },
  {
   "cell_type": "markdown",
   "metadata": {},
   "source": [
    "### Potência da portadora"
   ]
  },
  {
   "cell_type": "code",
   "execution_count": 8,
   "metadata": {},
   "outputs": [
    {
     "name": "stdout",
     "output_type": "stream",
     "text": [
      "1.0000000000000002\n"
     ]
    }
   ],
   "source": [
    "print(np.sum(c1**2)/c1.__len__())"
   ]
  },
  {
   "cell_type": "markdown",
   "metadata": {},
   "source": [
    "### Modulando para banda passante"
   ]
  },
  {
   "cell_type": "code",
   "execution_count": 9,
   "metadata": {},
   "outputs": [
    {
     "data": {
      "application/vnd.jupyter.widget-view+json": {
       "model_id": "9eb54e60985046c48272788dc0e27221",
       "version_major": 2,
       "version_minor": 0
      },
      "text/plain": [
       "Canvas(toolbar=Toolbar(toolitems=[('Home', 'Reset original view', 'home', 'home'), ('Back', 'Back to previous …"
      ]
     },
     "metadata": {},
     "output_type": "display_data"
    }
   ],
   "source": [
    "x1 = s1*c1\n",
    "X1 = fft(x1)\n",
    "\n",
    "x2 = s2*c2\n",
    "X2 = fft(x2)\n",
    "\n",
    "\n",
    "fig6 = plt.figure()\n",
    "gr6 = gridspec.GridSpec(nrows=5, ncols=11, figure=fig6)\n",
    "\n",
    "ax611 = fig6.add_subplot(gr6[0:2,0:5])\n",
    "ax612 = fig6.add_subplot(gr6[3:,0:5])\n",
    "ax621 = fig6.add_subplot(gr6[0:2,6:])\n",
    "ax622 = fig6.add_subplot(gr6[3:,6:])\n",
    "\n",
    "ax611.plot(t,x1)\n",
    "ax611.grid()\n",
    "ax611.set_title(\"4-ASK\")\n",
    "ax611.set_xlabel(r\"Tempo em segundos\")\n",
    "ax611.set_xlim(symb*oversampling*1/fs, (10+symb)*oversampling*1/fs)\n",
    "ax612.plot(f,np.abs(np.fft.fftshift(X1)))\n",
    "ax612.set_xlabel(r\"Frequência em fração de $\\pi$ radianos\")\n",
    "ax612.grid()\n",
    "\n",
    "ax621.plot(t,x2)\n",
    "ax621.grid()\n",
    "ax621.set_title(\"2-PSK\")\n",
    "ax621.set_xlabel(r\"Tempo em segundos\")\n",
    "ax621.set_xlim(symb*oversampling*1/fs, (10+symb)*oversampling*1/fs)\n",
    "ax622.plot(f,np.abs(np.fft.fftshift(X2)))\n",
    "ax622.set_xlabel(r\"Frequência em fração de $\\pi$ radianos\")\n",
    "ax622.grid()\n",
    "\n",
    "\n",
    "fig6.show()\n"
   ]
  },
  {
   "cell_type": "markdown",
   "metadata": {},
   "source": [
    "### Energia média por símbolo do sinal modulado"
   ]
  },
  {
   "cell_type": "code",
   "execution_count": 10,
   "metadata": {},
   "outputs": [
    {
     "name": "stdout",
     "output_type": "stream",
     "text": [
      "A energia média do sinal modulado x1 é 208.68885042456606\n",
      "A energia média do sinal modulado x2 é 29.999991804027534\n",
      "A energia média dos sinais modulados combinados é 249.22808476111135\n"
     ]
    }
   ],
   "source": [
    "print(f'A energia média do sinal modulado x1 é {np.sum(x1**2)/l_frame}')\n",
    "print(f'A energia média do sinal modulado x2 é {np.sum(x2**2)/l_frame}')\n",
    "print(f'A energia média dos sinais modulados combinados é {np.sum((x1+x2)**2)/l_frame}')"
   ]
  },
  {
   "cell_type": "markdown",
   "metadata": {},
   "source": [
    "## Adicionando o efeito do canal\n",
    "### Ruído AWGN\n",
    "Considerando que o sinal passa por um canal AWGN, a SNR adequada à simulação é definida em $E_b/N_{0dB}$ e a potência do ruído é calculada "
   ]
  },
  {
   "cell_type": "code",
   "execution_count": 11,
   "metadata": {},
   "outputs": [
    {
     "name": "stdout",
     "output_type": "stream",
     "text": [
      "85.55524311865554\n",
      "5.0\n"
     ]
    },
    {
     "data": {
      "application/vnd.jupyter.widget-view+json": {
       "model_id": "347b62d5c979405fb571d4f17fcee360",
       "version_major": 2,
       "version_minor": 0
      },
      "text/plain": [
       "Canvas(toolbar=Toolbar(toolitems=[('Home', 'Reset original view', 'home', 'home'), ('Back', 'Back to previous …"
      ]
     },
     "metadata": {},
     "output_type": "display_data"
    }
   ],
   "source": [
    "#EbN0_dB = 10\n",
    "#N0 = np.sum((x1**2)/(2*l_frame))/(10**(EbN0_dB/10))\n",
    "\n",
    "N0 = (alpha_P**2)*P/(1-(2*alpha_P))\n",
    "n = np.random.normal(0,np.sqrt(N0),N)\n",
    "y = x1 + x2 + n\n",
    "Y = np.fft.fft(y)\n",
    "\n",
    "print(np.sum(n**2)/l_frame)\n",
    "print(N0)\n",
    "\n",
    "fig7= plt.figure()\n",
    "gs7 = gridspec.GridSpec(nrows=12, ncols=1, figure=fig7)\n",
    "ax71 = fig7.add_subplot(gs7[0:3, 0])\n",
    "ax72 = fig7.add_subplot(gs7[5:8, 0])\n",
    "ax73 = fig7.add_subplot(gs7[9:, 0])\n",
    "\n",
    "#plt.subplot(3, 1, 1)\n",
    "ax71.plot(t,n)\n",
    "ax71.grid()\n",
    "ax71.set_xlim(symb*oversampling*1/fs, (10+symb)*oversampling*1/fs)\n",
    "ax71.set_title(r\"White Noise\")\n",
    "#plt.subplot(3, 1, 2)\n",
    "ax72.plot(t,y)\n",
    "ax72.grid()\n",
    "ax72.set_xlim(symb*oversampling*1/fs, (10+symb)*oversampling*1/fs)\n",
    "ax72.set_title(r\"White Noise added to Modulated Signal \")\n",
    "ax72.set_xlabel(r\"Time in seconds\")\n",
    "#plt.subplot(3, 1, 3)\n",
    "ax73.plot(f,np.abs(np.fft.fftshift(Y)))\n",
    "ax73.set_xlabel(r\"Frequency in $\\pi$ radians fraction\")\n",
    "ax73.grid()\n",
    "\n",
    "fig7.show()"
   ]
  },
  {
   "cell_type": "markdown",
   "metadata": {},
   "source": [
    "# Recepção do sinal\n",
    "## Demodulação dos sinais combinados transmitidos\n",
    "Assumindo que há sincronismo entre a transmissão e a recepção, uma onda sincronizada com a portadora é gerada em sincronia com a utilizada na modulação do sinal. Esta onda é utilizada para deslocar o espectro do sinal para a banda base."
   ]
  },
  {
   "cell_type": "code",
   "execution_count": 12,
   "metadata": {},
   "outputs": [
    {
     "data": {
      "application/vnd.jupyter.widget-view+json": {
       "model_id": "f416b6b1e72a48b5ae2af15e82d15e21",
       "version_major": 2,
       "version_minor": 0
      },
      "text/plain": [
       "Canvas(toolbar=Toolbar(toolitems=[('Home', 'Reset original view', 'home', 'home'), ('Back', 'Back to previous …"
      ]
     },
     "metadata": {},
     "output_type": "display_data"
    }
   ],
   "source": [
    "#fc = Rs*oversampling/4 # 32/oversampling\n",
    "#fs = Rs*oversampling\n",
    "#t =  np.arange(0,N/fs,1/fs)     # np.arange(0,N,1)\n",
    "# I-component\n",
    "cr1 = np.sqrt(2)*np.cos(2*np.pi*fc1*t)\n",
    "\n",
    "r1 = y*cr1         # Transmitted signal demodulation\n",
    "\n",
    "R1 = fft(r1)\n",
    "\n",
    "#%matplotlib widget\n",
    "fig8, (ax81,ax82) = plt.subplots(2,1)\n",
    "#ax51.subplot(2, 1, 1)\n",
    "#ax81.plot(t,r1)\n",
    "ax81.stem(r1)\n",
    "ax81.grid()\n",
    "#ax81.set_xlim(symb*oversampling*1/fs, (10+symb)*oversampling*1/fs)#(0, 4*oversampling)\n",
    "#plt.show()\n",
    "#ax52.subplot(2, 1, 2)\n",
    "ax82.plot(f,np.abs(np.fft.fftshift(R1)))\n",
    "ax82.grid()\n",
    "\n",
    "fig8.show()"
   ]
  },
  {
   "cell_type": "markdown",
   "metadata": {},
   "source": [
    "## Filtro passa baixas\n",
    "Um filtro passa baixas é usado para selecionar o sinal demodulado em banda base "
   ]
  },
  {
   "cell_type": "code",
   "execution_count": 13,
   "metadata": {},
   "outputs": [
    {
     "data": {
      "application/vnd.jupyter.widget-view+json": {
       "model_id": "3bb22638427a4a798da65d3dcdba4cd1",
       "version_major": 2,
       "version_minor": 0
      },
      "text/plain": [
       "Canvas(toolbar=Toolbar(toolitems=[('Home', 'Reset original view', 'home', 'home'), ('Back', 'Back to previous …"
      ]
     },
     "metadata": {},
     "output_type": "display_data"
    }
   ],
   "source": [
    "delta_db = -20*np.log10(0.00001)\n",
    "numtaps, beta_k = signal.kaiserord(delta_db, 0.5)\n",
    "numtaps |= 1 # Must be odd for a Type I FIR filter\n",
    "w_lp =  signal.firwin(numtaps, 0.5,window=('kaiser', beta_k), scale=False)\n",
    "\n",
    "\n",
    "#w_lp = np.kaiser(numtaps, beta)\n",
    "W_lp = fft(w_lp)\n",
    "\n",
    "fig9= plt.figure()\n",
    "gs9 = gridspec.GridSpec(nrows=8, ncols=1, figure=fig9)\n",
    "ax91 = fig9.add_subplot(gs9[0:3, 0])\n",
    "ax92 = fig9.add_subplot(gs9[5:, 0])\n",
    "ax91.stem(w_lp)\n",
    "ax91.set_title(\"Kaiser Window\")\n",
    "ax91.set_ylabel(\"Amplitude\")\n",
    "ax91.set_xlabel(\"Sample\")\n",
    "\n",
    "ax92.plot(np.abs(np.fft.fftshift(W_lp)))\n",
    "ax92.set_title(\"Kaiser Window Magnitude\")\n",
    "ax92.set_ylabel(\"Magnitude\")\n",
    "ax92.set_xlabel(\"Frequency\")\n",
    "\n",
    "fig9.show()"
   ]
  },
  {
   "cell_type": "markdown",
   "metadata": {},
   "source": [
    "## Filtragem passa-baixas\n"
   ]
  },
  {
   "cell_type": "code",
   "execution_count": 14,
   "metadata": {},
   "outputs": [
    {
     "data": {
      "application/vnd.jupyter.widget-view+json": {
       "model_id": "4898c90c848b458d982b27639fb2a83a",
       "version_major": 2,
       "version_minor": 0
      },
      "text/plain": [
       "Canvas(toolbar=Toolbar(toolitems=[('Home', 'Reset original view', 'home', 'home'), ('Back', 'Back to previous …"
      ]
     },
     "metadata": {},
     "output_type": "display_data"
    }
   ],
   "source": [
    "sr1 = signal.filtfilt(w_lp,1,r1)         # Transmitted signal demodulation\n",
    "\n",
    "SR1 = fft(sr1)\n",
    "\n",
    "#%matplotlib widget\n",
    "#fig10, (ax101,ax102) = plt.subplots(3,1)\n",
    "fig10 = plt.figure()\n",
    "gs10 = gridspec.GridSpec(nrows=7, ncols=1, figure=fig10)\n",
    "ax101 = fig10.add_subplot(gs10[0:3, 0])\n",
    "ax102 = fig10.add_subplot(gs10[4:, 0])\n",
    "ax101.plot(t,sr1)\n",
    "#ax101.stem(sr1)\n",
    "ax101.grid()\n",
    "ax101.set_xlim(symb*oversampling*1/fs, (10+symb)*oversampling*1/fs)#(0, 4*oversampling)\n",
    "#plt.show()\n",
    "#ax52.subplot(2, 1, 2)\n",
    "ax102.plot(f,np.abs(np.fft.fftshift(SR1)))\n",
    "ax102.grid()\n",
    "\n",
    "fig10.show()"
   ]
  },
  {
   "cell_type": "markdown",
   "metadata": {},
   "source": [
    "\n",
    "## Detecção por Filtro Casado\n",
    "### Definição do filtro casado idêntico ao da transmissão\n",
    "O filtro casado é idêntico ao usado na transmissão, mas é invertido no tempo. Caso seja simétrico, como é o caso do SRRC, não faz diferença invertê-lo."
   ]
  },
  {
   "cell_type": "code",
   "execution_count": 15,
   "metadata": {},
   "outputs": [
    {
     "data": {
      "application/vnd.jupyter.widget-view+json": {
       "model_id": "c31b41f4483544698ce7b6899bc681a1",
       "version_major": 2,
       "version_minor": 0
      },
      "text/plain": [
       "Canvas(toolbar=Toolbar(toolitems=[('Home', 'Reset original view', 'home', 'home'), ('Back', 'Back to previous …"
      ]
     },
     "metadata": {},
     "output_type": "display_data"
    }
   ],
   "source": [
    "mps = srrc(symb, beta, oversampling)\n",
    "mps = mps/np.sqrt(np.sum(mps**2))\n",
    "\n",
    "fig11, (ax111,ax112) = plt.subplots(2,1)\n",
    "ax111.stem(mps)\n",
    "ax111.grid()\n",
    "ax111.set_title(\"SRRC and SRRC*SRRC\")\n",
    "ax111.set_ylabel(\"Amplitude SRRC\")\n",
    "\n",
    "ax112.stem(np.convolve(mps,mps))\n",
    "ax112.grid()\n",
    "ax112.set_ylabel(\"Amplitude SRRC*SRRC\")\n",
    "\n",
    "fig11.show()"
   ]
  },
  {
   "cell_type": "markdown",
   "metadata": {},
   "source": [
    "### Detecção do sinal m1\n",
    "Convoluindo com o pulso idêntico ao da transmissão e amostrando nos instantes adequados, a probabilidade do valor obtido se aproximar da energia do símbolo original é maximizada.\n"
   ]
  },
  {
   "cell_type": "code",
   "execution_count": 16,
   "metadata": {},
   "outputs": [
    {
     "name": "stdout",
     "output_type": "stream",
     "text": [
      "A energia média do sinal modulado mr1 é 253.29258801120255\n"
     ]
    },
    {
     "data": {
      "application/vnd.jupyter.widget-view+json": {
       "model_id": "5bcbb89166eb42ababe4724c997002b2",
       "version_major": 2,
       "version_minor": 0
      },
      "text/plain": [
       "Canvas(toolbar=Toolbar(toolitems=[('Home', 'Reset original view', 'home', 'home'), ('Back', 'Back to previous …"
      ]
     },
     "metadata": {},
     "output_type": "display_data"
    }
   ],
   "source": [
    "#%run quantization.py\n",
    "from quantization import quantization\n",
    "mupsr1 = np.convolve(mps,sr1)    # Matched filter\n",
    "\n",
    "# Sampling\n",
    "mr1 = np.zeros(l_frame)\n",
    "mr1 = mupsr1[range(2*symb*oversampling, ((l_frame-1+2*symb)*oversampling+1), oversampling)]\n",
    "\n",
    "# Quantization\n",
    "mq1 = quantization(mr1,alphabet1)\n",
    "#print(2*symb*oversampling)\n",
    "#print(((l_frame-1+2*symb)*oversampling+1))\n",
    "\n",
    "\n",
    "print(f'A energia média do sinal modulado mr1 é {np.sum(mr1**2)/l_frame}')\n",
    "#print(f'A energia média do sinal modulado x2 é {np.sum(x2**2)/l_frame}')\n",
    "#print(f'A energia média dos sinais modulados combinados é {np.sum((x1+x2)**2)/l_frame}')\n",
    "\n",
    "fig12 = plt.figure()\n",
    "gr12 = gridspec.GridSpec(nrows=30, ncols=1, figure=fig12)\n",
    "\n",
    "ax121 = fig12.add_subplot(gr12[0:8, 0])\n",
    "ax121.plot(mupsr1)\n",
    "ax121.grid()\n",
    "ax121.set_xlim(2*symb*oversampling, (20+2*symb)*oversampling)            # Ploting the first ten symbols\n",
    "ax121.set_title(\"Raised Cossine Pulses\")\n",
    "\n",
    "ax122 = fig12.add_subplot(gr12[12:19, 0])\n",
    "ax122.stem(mr1)\n",
    "ax122.grid()\n",
    "ax122.set_xlim(0, 20)            # Ploting the first ten symbols\n",
    "ax122.set_title(\"Sampled Signal\")\n",
    "\n",
    "\n",
    "ax123 = fig12.add_subplot(gr12[23:, 0])\n",
    "ax123.stem(mq1)\n",
    "ax123.grid()\n",
    "ax123.set_xlim(0, 20)            # Ploting the first ten symbols\n",
    "ax123.set_title(\"Restored Symbols\")\n",
    "\n",
    "fig12.show()"
   ]
  },
  {
   "cell_type": "markdown",
   "metadata": {},
   "source": [
    "## Taxa de erro de símbolos da mensagem m1\n"
   ]
  },
  {
   "cell_type": "code",
   "execution_count": 17,
   "metadata": {},
   "outputs": [
    {
     "name": "stdout",
     "output_type": "stream",
     "text": [
      "Dos 512 símbolos, 21.09375% estavam errados\n",
      "108\n"
     ]
    }
   ],
   "source": [
    "#msq1 = quantization(ms1,alphabet1)      # quantized original message \n",
    "diff_symb1 = ms1 - mq1\n",
    "error1 = l_frame-np.sum((diff_symb1)==0)\n",
    "print(f'Dos {l_frame} símbolos, {100*error1/l_frame}% estavam errados')\n",
    "print(error1)\n"
   ]
  },
  {
   "cell_type": "markdown",
   "metadata": {},
   "source": [
    "## Reconstrução dos pulsos do sinal s1"
   ]
  },
  {
   "cell_type": "code",
   "execution_count": 25,
   "metadata": {},
   "outputs": [
    {
     "data": {
      "application/vnd.jupyter.widget-view+json": {
       "model_id": "5f7b41446a6748cfb21e7276c6289f92",
       "version_major": 2,
       "version_minor": 0
      },
      "text/plain": [
       "Canvas(toolbar=Toolbar(toolitems=[('Home', 'Reset original view', 'home', 'home'), ('Back', 'Back to previous …"
      ]
     },
     "metadata": {},
     "output_type": "display_data"
    }
   ],
   "source": [
    "reconst_mups1 = np.zeros(mq1.size*oversampling)\n",
    "reconst_mups1[range(0,reconst_mups1.size,oversampling)]=mq1\n",
    "reconst_s1 = np.convolve(mps,reconst_mups1)\n",
    "\n",
    "fig13 = plt.figure()\n",
    "gr13 = gridspec.GridSpec(nrows=8, ncols=2, figure=fig13)\n",
    "\n",
    "ax131 = fig13.add_subplot(gr13[0:2,0:])\n",
    "ax132 = fig13.add_subplot(gr13[3:5,0:])\n",
    "ax133 = fig13.add_subplot(gr13[6:,0:])\n",
    "\n",
    "\n",
    "#ax131.stem(msq1, markerfmt='<')\n",
    "#ax131.stem(mq1, markerfmt='c>')\n",
    "ax131.stem(mr1, markerfmt='>')\n",
    "ax131.stem(ms1, markerfmt='c<')\n",
    "ax131.set_title(\"Original symbol energy (<) and detected energy (>)\")\n",
    "ax131.set_xlim(0, 30)\n",
    "ax131.grid()\n",
    "\n",
    "ax132.stem(diff_symb1, markerfmt='r<')\n",
    "ax132.set_xlim(0, 30)\n",
    "ax132.grid()\n",
    "ax132.set_title(\"Mismatched symbols\")\n",
    "\n",
    "ax133.plot(reconst_s1)\n",
    "ax133.plot(s1,'c')\n",
    "ax133.set_xlim(symb*oversampling, (30+symb)*oversampling)            # Ploting the first ten symbols\n",
    "ax133.set_title(\"Original and Restored baseband signal\")\n",
    "ax133.grid()\n",
    "\n",
    "#print(reconst_s1.size)\n",
    "#print(s1.size)\n",
    "#print(sr1.size)\n",
    "\n",
    "fig13.show()"
   ]
  },
  {
   "cell_type": "markdown",
   "metadata": {},
   "source": [
    "### Detecção do sinal m2"
   ]
  },
  {
   "cell_type": "code",
   "execution_count": 19,
   "metadata": {},
   "outputs": [
    {
     "name": "stdout",
     "output_type": "stream",
     "text": [
      "A energia média do sinal modulado mr2 é 24.801963419163197\n"
     ]
    },
    {
     "data": {
      "application/vnd.jupyter.widget-view+json": {
       "model_id": "16516f10977842c49ed5c08af12fe9bf",
       "version_major": 2,
       "version_minor": 0
      },
      "text/plain": [
       "Canvas(toolbar=Toolbar(toolitems=[('Home', 'Reset original view', 'home', 'home'), ('Back', 'Back to previous …"
      ]
     },
     "metadata": {},
     "output_type": "display_data"
    }
   ],
   "source": [
    "sr2 = sr1 - reconst_s1           #\n",
    "mupsr2 = np.convolve(mps,sr2)    # Matched filter\n",
    "\n",
    "\n",
    "# Sampling\n",
    "mr2 = np.zeros(l_frame)\n",
    "mr2 = mupsr2[range(2*symb*oversampling, ((l_frame-1+2*symb)*oversampling+1), oversampling)]\n",
    "\n",
    "# Quantization\n",
    "mq2 = quantization(mr2,alphabet2)\n",
    "#print(2*symb*oversampling)\n",
    "#print(((l_frame-1+2*symb)*oversampling+1))\n",
    "\n",
    "\n",
    "print(f'A energia média do sinal modulado mr2 é {np.sum(mr2**2)/l_frame}')\n",
    "\n",
    "fig14 = plt.figure()\n",
    "gr14 = gridspec.GridSpec(nrows=30, ncols=1, figure=fig14)\n",
    "\n",
    "ax141 = fig14.add_subplot(gr14[0:8, 0])\n",
    "ax141.plot(mupsr2)\n",
    "ax141.grid()\n",
    "ax141.set_xlim(2*symb*oversampling, (20+2*symb)*oversampling)            # Ploting the first ten symbols\n",
    "ax141.set_title(\"Raised Cossine Pulses\")\n",
    "\n",
    "ax142 = fig14.add_subplot(gr14[12:19, 0])\n",
    "ax142.stem(mr2)\n",
    "ax142.grid()\n",
    "ax142.set_xlim(0, 20)            # Ploting the first ten symbols\n",
    "ax142.set_title(\"Sampled Signal\")\n",
    "\n",
    "\n",
    "ax143 = fig14.add_subplot(gr14[23:, 0])\n",
    "ax143.stem(mq2)\n",
    "ax143.grid()\n",
    "ax143.set_xlim(0, 20)            # Ploting the first ten symbols\n",
    "ax143.set_title(\"Restored Symbols\")\n",
    "\n",
    "fig14.show()"
   ]
  },
  {
   "cell_type": "markdown",
   "metadata": {},
   "source": [
    "## Taxa de erro de bits da mensagem m2"
   ]
  },
  {
   "cell_type": "code",
   "execution_count": 20,
   "metadata": {},
   "outputs": [
    {
     "name": "stdout",
     "output_type": "stream",
     "text": [
      "Dos 512 símbolos, 22.65625% estavam errados\n",
      "116\n"
     ]
    }
   ],
   "source": [
    "#msq1 = quantization(ms1,alphabet1)      # quantized original message \n",
    "diff_symb2 = ms2 - mq2\n",
    "error2 = l_frame-np.sum((diff_symb2)==0)\n",
    "print(f'Dos {l_frame} símbolos, {100*error2/l_frame}% estavam errados')\n",
    "print(error2)"
   ]
  },
  {
   "cell_type": "markdown",
   "metadata": {},
   "source": [
    "## Reconstrução dos pulsos do sinal s1"
   ]
  },
  {
   "cell_type": "code",
   "execution_count": 26,
   "metadata": {},
   "outputs": [
    {
     "data": {
      "application/vnd.jupyter.widget-view+json": {
       "model_id": "110f8cbb188d4fb1965090a1fae3e89e",
       "version_major": 2,
       "version_minor": 0
      },
      "text/plain": [
       "Canvas(toolbar=Toolbar(toolitems=[('Home', 'Reset original view', 'home', 'home'), ('Back', 'Back to previous …"
      ]
     },
     "metadata": {},
     "output_type": "display_data"
    }
   ],
   "source": [
    "reconst_mups2 = np.zeros(mq2.size*oversampling)\n",
    "reconst_mups2[range(0,reconst_mups2.size,oversampling)]=mq2\n",
    "reconst_s2 = np.convolve(mps,reconst_mups2)\n",
    "\n",
    "fig15 = plt.figure()\n",
    "gr15 = gridspec.GridSpec(nrows=8, ncols=2, figure=fig15)\n",
    "\n",
    "ax151 = fig15.add_subplot(gr15[0:2,0:])\n",
    "ax152 = fig15.add_subplot(gr15[3:5,0:])\n",
    "ax153 = fig15.add_subplot(gr15[6:,0:])\n",
    "\n",
    "\n",
    "#ax131.stem(msq1, markerfmt='<')\n",
    "#ax131.stem(mq1, markerfmt='c>')\n",
    "ax151.stem(mr2, markerfmt='>')\n",
    "ax151.stem(ms2, markerfmt='c<')\n",
    "ax151.set_title(\"Original symbol energy (<) and detected energy (>)\")\n",
    "ax151.set_xlim(0, 30)\n",
    "ax151.grid()\n",
    "  \n",
    "ax152.stem(diff_symb2, markerfmt='r<')\n",
    "ax152.set_xlim(0, 30)\n",
    "ax152.grid()\n",
    "ax152.set_title(\"Mismatched symbols\")\n",
    "  \n",
    "ax153.plot(reconst_s2)\n",
    "ax153.plot(s2,'c')\n",
    "ax153.set_xlim(symb*oversampling, (30+symb)*oversampling)            # Ploting the first ten symbols\n",
    "ax153.set_title(\"Original and Restored baseband signal\")\n",
    "ax153.grid()\n",
    "\n",
    "fig15.show()"
   ]
  },
  {
   "cell_type": "code",
   "execution_count": null,
   "metadata": {},
   "outputs": [],
   "source": []
  }
 ],
 "metadata": {
  "kernelspec": {
   "display_name": "Python 3",
   "language": "python",
   "name": "python3"
  },
  "language_info": {
   "codemirror_mode": {
    "name": "ipython",
    "version": 3
   },
   "file_extension": ".py",
   "mimetype": "text/x-python",
   "name": "python",
   "nbconvert_exporter": "python",
   "pygments_lexer": "ipython3",
   "version": "3.7.3"
  }
 },
 "nbformat": 4,
 "nbformat_minor": 4
}
